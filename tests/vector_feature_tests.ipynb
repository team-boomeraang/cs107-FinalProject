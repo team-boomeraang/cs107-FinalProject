{
 "cells": [
  {
   "cell_type": "code",
   "execution_count": 1,
   "metadata": {},
   "outputs": [],
   "source": [
    "import numpy as np\n",
    "from boomdiff import AD, optimize"
   ]
  },
  {
   "cell_type": "markdown",
   "metadata": {},
   "source": [
    "### Test `from_array` and `to_array`"
   ]
  },
  {
   "cell_type": "code",
   "execution_count": 2,
   "metadata": {},
   "outputs": [],
   "source": [
    "x_array = np.array([1.5,8.4])"
   ]
  },
  {
   "cell_type": "code",
   "execution_count": 3,
   "metadata": {},
   "outputs": [],
   "source": [
    "AD_x_array = AD.from_array(x_array,'x')"
   ]
  },
  {
   "cell_type": "code",
   "execution_count": 4,
   "metadata": {},
   "outputs": [
    {
     "name": "stdout",
     "output_type": "stream",
     "text": [
      "[1.5 ({'x_0': 1.0}) 8.4 ({'x_1': 1.0})]\n"
     ]
    }
   ],
   "source": [
    "print(AD_x_array)"
   ]
  },
  {
   "cell_type": "code",
   "execution_count": 5,
   "metadata": {},
   "outputs": [
    {
     "name": "stdout",
     "output_type": "stream",
     "text": [
      "[1.5 8.4]\n"
     ]
    }
   ],
   "source": [
    "print(AD.to_array(AD_x_array))"
   ]
  },
  {
   "cell_type": "code",
   "execution_count": 6,
   "metadata": {},
   "outputs": [],
   "source": [
    "w_array = np.array([[3.0,2.4],\n",
    "                    [1.5,3.3]])"
   ]
  },
  {
   "cell_type": "code",
   "execution_count": 7,
   "metadata": {},
   "outputs": [],
   "source": [
    "AD_w_array = AD.from_array(w_array, 'w')"
   ]
  },
  {
   "cell_type": "code",
   "execution_count": 8,
   "metadata": {},
   "outputs": [
    {
     "name": "stdout",
     "output_type": "stream",
     "text": [
      "[[3.0 ({'w_0_0': 1.0}) 2.4 ({'w_0_1': 1.0})]\n",
      " [1.5 ({'w_1_0': 1.0}) 3.3 ({'w_1_1': 1.0})]]\n"
     ]
    }
   ],
   "source": [
    "print(AD_w_array)"
   ]
  },
  {
   "cell_type": "code",
   "execution_count": 9,
   "metadata": {},
   "outputs": [
    {
     "name": "stdout",
     "output_type": "stream",
     "text": [
      "[[3.  2.4]\n",
      " [1.5 3.3]]\n"
     ]
    }
   ],
   "source": [
    "print(AD.to_array(AD_w_array))"
   ]
  },
  {
   "cell_type": "markdown",
   "metadata": {},
   "source": [
    "### Test pair-wise operations and matrix-like operations"
   ]
  },
  {
   "cell_type": "code",
   "execution_count": 10,
   "metadata": {},
   "outputs": [],
   "source": [
    "X = np.random.normal(size=[10,2])"
   ]
  },
  {
   "cell_type": "code",
   "execution_count": 11,
   "metadata": {},
   "outputs": [
    {
     "data": {
      "text/plain": [
       "(10, 2)"
      ]
     },
     "execution_count": 11,
     "metadata": {},
     "output_type": "execute_result"
    }
   ],
   "source": [
    "(X@AD_w_array).shape"
   ]
  },
  {
   "cell_type": "code",
   "execution_count": 12,
   "metadata": {},
   "outputs": [
    {
     "name": "stdout",
     "output_type": "stream",
     "text": [
      "(10, 2)\n"
     ]
    }
   ],
   "source": [
    "print(np.dot(X,AD_w_array).shape)"
   ]
  },
  {
   "cell_type": "code",
   "execution_count": 13,
   "metadata": {},
   "outputs": [],
   "source": [
    "a = AD(2.5, \"a\")"
   ]
  },
  {
   "cell_type": "code",
   "execution_count": 14,
   "metadata": {},
   "outputs": [
    {
     "data": {
      "text/plain": [
       "array([[3.0 ({'w_0_0': 1.0}), 2.4 ({'w_0_1': 1.0})],\n",
       "       [1.5 ({'w_1_0': 1.0}), 3.3 ({'w_1_1': 1.0})]], dtype=object)"
      ]
     },
     "execution_count": 14,
     "metadata": {},
     "output_type": "execute_result"
    }
   ],
   "source": [
    "AD_w_array"
   ]
  },
  {
   "cell_type": "code",
   "execution_count": 15,
   "metadata": {},
   "outputs": [
    {
     "data": {
      "text/plain": [
       "array([[7.5 ({'a': 3.0, 'w_0_0': 2.5}), 6.0 ({'a': 2.4, 'w_0_1': 2.5})],\n",
       "       [3.75 ({'a': 1.5, 'w_1_0': 2.5}), 8.25 ({'a': 3.3, 'w_1_1': 2.5})]],\n",
       "      dtype=object)"
      ]
     },
     "execution_count": 15,
     "metadata": {},
     "output_type": "execute_result"
    }
   ],
   "source": [
    "a*AD_w_array"
   ]
  },
  {
   "cell_type": "code",
   "execution_count": 16,
   "metadata": {},
   "outputs": [
    {
     "data": {
      "text/plain": [
       "array([[7.5 ({'a': 3.0, 'w_0_0': 2.5}), 6.0 ({'a': 2.4, 'w_0_1': 2.5})],\n",
       "       [3.75 ({'a': 1.5, 'w_1_0': 2.5}), 8.25 ({'a': 3.3, 'w_1_1': 2.5})]],\n",
       "      dtype=object)"
      ]
     },
     "execution_count": 16,
     "metadata": {},
     "output_type": "execute_result"
    }
   ],
   "source": [
    "np.dot(a, AD_w_array)"
   ]
  },
  {
   "cell_type": "code",
   "execution_count": 17,
   "metadata": {},
   "outputs": [
    {
     "data": {
      "text/plain": [
       "array([[5.5 ({'a': 1.0, 'w_0_0': 1.0}), 4.9 ({'a': 1.0, 'w_0_1': 1.0})],\n",
       "       [4.0 ({'a': 1.0, 'w_1_0': 1.0}), 5.8 ({'a': 1.0, 'w_1_1': 1.0})]],\n",
       "      dtype=object)"
      ]
     },
     "execution_count": 17,
     "metadata": {},
     "output_type": "execute_result"
    }
   ],
   "source": [
    "a + AD_w_array"
   ]
  },
  {
   "cell_type": "code",
   "execution_count": 18,
   "metadata": {},
   "outputs": [
    {
     "data": {
      "text/plain": [
       "array([[-0.5 ({'a': 1.0, 'w_0_0': -1.0}),\n",
       "        0.10000000000000009 ({'a': 1.0, 'w_0_1': -1.0})],\n",
       "       [1.0 ({'a': 1.0, 'w_1_0': -1.0}),\n",
       "        -0.7999999999999998 ({'a': 1.0, 'w_1_1': -1.0})]], dtype=object)"
      ]
     },
     "execution_count": 18,
     "metadata": {},
     "output_type": "execute_result"
    }
   ],
   "source": [
    "a - AD_w_array"
   ]
  },
  {
   "cell_type": "code",
   "execution_count": 19,
   "metadata": {},
   "outputs": [
    {
     "data": {
      "text/plain": [
       "array([[0.8333333333333334 ({'a': 0.3333333333333333, 'w_0_0': -0.2777777777777778}),\n",
       "        1.0416666666666667 ({'a': 0.4166666666666667, 'w_0_1': -0.4340277777777778})],\n",
       "       [1.6666666666666667 ({'a': 0.6666666666666666, 'w_1_0': -1.1111111111111112}),\n",
       "        0.7575757575757576 ({'a': 0.30303030303030304, 'w_1_1': -0.22956841138659323})]],\n",
       "      dtype=object)"
      ]
     },
     "execution_count": 19,
     "metadata": {},
     "output_type": "execute_result"
    }
   ],
   "source": [
    "a / AD_w_array"
   ]
  },
  {
   "cell_type": "code",
   "execution_count": 20,
   "metadata": {},
   "outputs": [
    {
     "data": {
      "text/plain": [
       "array([[15.625 ({'a': 18.75, 'w_0_0': 14.317042685533673}),\n",
       "        9.016874411920083 ({'a': 8.65619943544328, 'w_0_1': 8.262078454115596})],\n",
       "       [3.952847075210474 ({'a': 2.3717082451262845, 'w_1_0': 3.6219571395312187}),\n",
       "        20.568471942722457 ({'a': 27.15038296439364, 'w_1_1': 18.846700209930184})]],\n",
       "      dtype=object)"
      ]
     },
     "execution_count": 20,
     "metadata": {},
     "output_type": "execute_result"
    }
   ],
   "source": [
    "a ** AD_w_array"
   ]
  },
  {
   "cell_type": "code",
   "execution_count": 21,
   "metadata": {},
   "outputs": [
    {
     "data": {
      "text/plain": [
       "array([3.5 ({'a': 1.0, 'x1': 1}), 4.5 ({'a': 1.0, 'x1': 1})], dtype=object)"
      ]
     },
     "execution_count": 21,
     "metadata": {},
     "output_type": "execute_result"
    }
   ],
   "source": [
    "a + [AD(1), AD(2)]"
   ]
  },
  {
   "cell_type": "markdown",
   "metadata": {},
   "source": [
    "### Test element-wise behavior of Static methods"
   ]
  },
  {
   "cell_type": "code",
   "execution_count": 22,
   "metadata": {},
   "outputs": [
    {
     "data": {
      "text/plain": [
       "array([[0.1411200080598672 ({'w_0_0': -0.9899924966004454}),\n",
       "        0.675463180551151 ({'w_0_1': -0.7373937155412454})],\n",
       "       [0.9974949866040544 ({'w_1_0': 0.0707372016677029}),\n",
       "        -0.1577456941432482 ({'w_1_1': -0.9874797699088649})]],\n",
       "      dtype=object)"
      ]
     },
     "execution_count": 22,
     "metadata": {},
     "output_type": "execute_result"
    }
   ],
   "source": [
    "AD.sin(AD_w_array)"
   ]
  },
  {
   "cell_type": "code",
   "execution_count": 23,
   "metadata": {},
   "outputs": [
    {
     "data": {
      "text/plain": [
       "array([[-0.9899924966004454 ({'w_0_0': -0.1411200080598672}),\n",
       "        -0.7373937155412454 ({'w_0_1': -0.675463180551151})],\n",
       "       [0.0707372016677029 ({'w_1_0': -0.9974949866040544}),\n",
       "        -0.9874797699088649 ({'w_1_1': 0.1577456941432482})]],\n",
       "      dtype=object)"
      ]
     },
     "execution_count": 23,
     "metadata": {},
     "output_type": "execute_result"
    }
   ],
   "source": [
    "AD.cos(AD_w_array)"
   ]
  },
  {
   "cell_type": "code",
   "execution_count": 24,
   "metadata": {},
   "outputs": [
    {
     "data": {
      "text/plain": [
       "array([[-0.1425465430742778 ({'w_0_0': 1.020319516942427}),\n",
       "        -0.9160142896734106 ({'w_0_1': 1.839082178885883})],\n",
       "       [14.10141994717172 ({'w_1_0': 199.8500445264925}),\n",
       "        0.15974574766003222 ({'w_1_1': 1.0255187038954627})]],\n",
       "      dtype=object)"
      ]
     },
     "execution_count": 24,
     "metadata": {},
     "output_type": "execute_result"
    }
   ],
   "source": [
    "AD.tan(AD_w_array)"
   ]
  },
  {
   "cell_type": "code",
   "execution_count": 25,
   "metadata": {},
   "outputs": [],
   "source": [
    "w_array2 = np.array([[0.6,0.4],\n",
    "                    [0.12,0.32]])\n",
    "AD_w_array2 = AD.from_array(w_array2, prefix='w2')"
   ]
  },
  {
   "cell_type": "code",
   "execution_count": 26,
   "metadata": {},
   "outputs": [
    {
     "data": {
      "text/plain": [
       "array([[0.6435011087932844 ({'w2_0_0': 1.25}),\n",
       "        0.41151684606748806 ({'w2_0_1': 1.0910894511799618})],\n",
       "       [0.12028988239478806 ({'w2_1_0': 1.0072787050317253}),\n",
       "        0.3257294872946302 ({'w2_1_1': 1.0555008273018727})]],\n",
       "      dtype=object)"
      ]
     },
     "execution_count": 26,
     "metadata": {},
     "output_type": "execute_result"
    }
   ],
   "source": [
    "AD.arcsin(AD_w_array2)"
   ]
  },
  {
   "cell_type": "code",
   "execution_count": 27,
   "metadata": {},
   "outputs": [
    {
     "data": {
      "text/plain": [
       "array([[0.9272952180016123 ({'w2_0_0': -1.25}),\n",
       "        1.1592794807274085 ({'w2_0_1': -1.0910894511799618})],\n",
       "       [1.4505064444001086 ({'w2_1_0': -1.0072787050317253}),\n",
       "        1.2450668395002664 ({'w2_1_1': -1.0555008273018727})]],\n",
       "      dtype=object)"
      ]
     },
     "execution_count": 27,
     "metadata": {},
     "output_type": "execute_result"
    }
   ],
   "source": [
    "AD.arccos(AD_w_array2)"
   ]
  },
  {
   "cell_type": "code",
   "execution_count": 28,
   "metadata": {},
   "outputs": [
    {
     "data": {
      "text/plain": [
       "array([[0.6841368083416923 ({'w2_0_0': 1.4680431725279575}),\n",
       "        0.4227932187381618 ({'w2_0_1': 1.178754105810975})],\n",
       "       [0.12057933721130532 ({'w2_1_0': 1.0145393765623176}),\n",
       "        0.33138940522423466 ({'w2_1_1': 1.1098189378948722})]],\n",
       "      dtype=object)"
      ]
     },
     "execution_count": 28,
     "metadata": {},
     "output_type": "execute_result"
    }
   ],
   "source": [
    "AD.tan(AD_w_array2)"
   ]
  },
  {
   "cell_type": "code",
   "execution_count": 29,
   "metadata": {},
   "outputs": [
    {
     "data": {
      "text/plain": [
       "array([[0.7745966692414834 ({'w2_0_0': 0.6454972243679028}),\n",
       "        0.6324555320336759 ({'w2_0_1': 0.7905694150420948})],\n",
       "       [0.34641016151377546 ({'w2_1_0': 1.4433756729740643}),\n",
       "        0.565685424949238 ({'w2_1_1': 0.8838834764831844})]], dtype=object)"
      ]
     },
     "execution_count": 29,
     "metadata": {},
     "output_type": "execute_result"
    }
   ],
   "source": [
    "AD.sqrt(AD_w_array2)"
   ]
  },
  {
   "cell_type": "code",
   "execution_count": 30,
   "metadata": {},
   "outputs": [
    {
     "data": {
      "text/plain": [
       "array([[-0.5108256237659907 ({'w2_0_0': 1.6666666666666667}),\n",
       "        -0.916290731874155 ({'w2_0_1': 2.5})],\n",
       "       [-2.120263536200091 ({'w2_1_0': 8.333333333333334}),\n",
       "        -1.1394342831883648 ({'w2_1_1': 3.125})]], dtype=object)"
      ]
     },
     "execution_count": 30,
     "metadata": {},
     "output_type": "execute_result"
    }
   ],
   "source": [
    "AD.log(AD_w_array2)"
   ]
  },
  {
   "cell_type": "code",
   "execution_count": 31,
   "metadata": {},
   "outputs": [
    {
     "data": {
      "text/plain": [
       "array([[0.6366535821482412 ({'w2_0_0': 1.1854652182422676}),\n",
       "        0.4107523258028155 ({'w2_0_1': 1.0810723718384547})],\n",
       "       [0.12028820743110907 ({'w2_1_0': 1.0072086441482666}),\n",
       "        0.32548936363113307 ({'w2_1_1': 1.051638400704824})]],\n",
       "      dtype=object)"
      ]
     },
     "execution_count": 31,
     "metadata": {},
     "output_type": "execute_result"
    }
   ],
   "source": [
    "AD.sinh(AD_w_array2)"
   ]
  },
  {
   "cell_type": "code",
   "execution_count": 32,
   "metadata": {},
   "outputs": [
    {
     "data": {
      "text/plain": [
       "array([[1.1854652182422676 ({'w2_0_0': -0.6366535821482412}),\n",
       "        1.0810723718384547 ({'w2_0_1': -0.4107523258028155})],\n",
       "       [1.0072086441482666 ({'w2_1_0': -0.12028820743110907}),\n",
       "        1.051638400704824 ({'w2_1_1': -0.32548936363113307})]],\n",
       "      dtype=object)"
      ]
     },
     "execution_count": 32,
     "metadata": {},
     "output_type": "execute_result"
    }
   ],
   "source": [
    "AD.cosh(AD_w_array2)"
   ]
  },
  {
   "cell_type": "code",
   "execution_count": 33,
   "metadata": {},
   "outputs": [
    {
     "data": {
      "text/plain": [
       "array([[0.5370495669980353 ({'w2_0_0': 0.7115777625872229}),\n",
       "        0.3799489622552249 ({'w2_0_1': 0.8556387860811778})],\n",
       "       [0.11942729853438588 ({'w2_1_0': 0.9857371203647786}),\n",
       "        0.30950692121263845 ({'w2_1_1': 0.9042054657214734})]],\n",
       "      dtype=object)"
      ]
     },
     "execution_count": 33,
     "metadata": {},
     "output_type": "execute_result"
    }
   ],
   "source": [
    "AD.tanh(AD_w_array2)"
   ]
  },
  {
   "cell_type": "code",
   "execution_count": 34,
   "metadata": {},
   "outputs": [
    {
     "data": {
      "text/plain": [
       "array([[1.8221188003905089 ({'w2_0_0': 1.8221188003905089}),\n",
       "        1.4918246976412703 ({'w2_0_1': 1.4918246976412703})],\n",
       "       [1.1274968515793757 ({'w2_1_0': 1.1274968515793757}),\n",
       "        1.377127764335957 ({'w2_1_1': 1.377127764335957})]], dtype=object)"
      ]
     },
     "execution_count": 34,
     "metadata": {},
     "output_type": "execute_result"
    }
   ],
   "source": [
    "AD.exp(AD_w_array2)"
   ]
  },
  {
   "cell_type": "code",
   "execution_count": 35,
   "metadata": {},
   "outputs": [
    {
     "data": {
      "text/plain": [
       "array([[0.6456563062257954 ({'w2_0_0': 0.2287842404566573}),\n",
       "        0.598687660112452 ({'w2_0_1': 0.24026074574152917})],\n",
       "       [0.5299640517645717 ({'w2_1_0': 0.24910215560185006}),\n",
       "        0.5793242521487495 ({'w2_1_1': 0.2437076630210416})]],\n",
       "      dtype=object)"
      ]
     },
     "execution_count": 35,
     "metadata": {},
     "output_type": "execute_result"
    }
   ],
   "source": [
    "AD.logistic(AD_w_array2)"
   ]
  },
  {
   "cell_type": "markdown",
   "metadata": {},
   "source": [
    "### Some numpy-like operations"
   ]
  },
  {
   "cell_type": "code",
   "execution_count": 36,
   "metadata": {},
   "outputs": [
    {
     "data": {
      "text/plain": [
       "10.2 ({'w_0_0': 1.0, 'w_0_1': 1.0, 'w_1_0': 1.0, 'w_1_1': 1.0})"
      ]
     },
     "execution_count": 36,
     "metadata": {},
     "output_type": "execute_result"
    }
   ],
   "source": [
    "AD.sum(AD_w_array)"
   ]
  },
  {
   "cell_type": "code",
   "execution_count": 37,
   "metadata": {},
   "outputs": [
    {
     "data": {
      "text/plain": [
       "2.55 ({'w_0_0': 0.25, 'w_0_1': 0.25, 'w_1_0': 0.25, 'w_1_1': 0.25})"
      ]
     },
     "execution_count": 37,
     "metadata": {},
     "output_type": "execute_result"
    }
   ],
   "source": [
    "AD.mean(AD_w_array)"
   ]
  },
  {
   "cell_type": "code",
   "execution_count": 38,
   "metadata": {},
   "outputs": [
    {
     "data": {
      "text/plain": [
       "array([[2.0879999999999996 ({'w_0_0': 0.6, 'w2_0_0': 3.0, 'w_0_1': 0.12, 'w2_1_0': 2.4}),\n",
       "        1.9680000000000002 ({'w_0_0': 0.4, 'w2_0_1': 3.0, 'w_0_1': 0.32, 'w2_1_1': 2.4})],\n",
       "       [1.2959999999999998 ({'w_1_0': 0.6, 'w2_0_0': 1.5, 'w_1_1': 0.12, 'w2_1_0': 3.3}),\n",
       "        1.6560000000000001 ({'w_1_0': 0.4, 'w2_0_1': 1.5, 'w_1_1': 0.32, 'w2_1_1': 3.3})]],\n",
       "      dtype=object)"
      ]
     },
     "execution_count": 38,
     "metadata": {},
     "output_type": "execute_result"
    }
   ],
   "source": [
    "AD.dot(AD_w_array, AD_w_array2)"
   ]
  },
  {
   "cell_type": "markdown",
   "metadata": {},
   "source": [
    "### A vector-flavor optimzier test"
   ]
  },
  {
   "cell_type": "code",
   "execution_count": 39,
   "metadata": {},
   "outputs": [],
   "source": [
    "# Initialize a variable array\n",
    "w = AD.from_array(np.random.normal(0,5,size=[2,2]), 'w')"
   ]
  },
  {
   "cell_type": "code",
   "execution_count": 40,
   "metadata": {},
   "outputs": [
    {
     "name": "stdout",
     "output_type": "stream",
     "text": [
      "[[-12.765345263018125 ({'w_0_0': 1.0})\n",
      "  -0.2986853229755326 ({'w_0_1': 1.0})]\n",
      " [0.6646994057727572 ({'w_1_0': 1.0})\n",
      "  -0.4693559174860771 ({'w_1_1': 1.0})]]\n"
     ]
    }
   ],
   "source": [
    "print(w)"
   ]
  },
  {
   "cell_type": "code",
   "execution_count": 41,
   "metadata": {},
   "outputs": [],
   "source": [
    "loss = lambda: AD.sum(w**2)"
   ]
  },
  {
   "cell_type": "code",
   "execution_count": 42,
   "metadata": {},
   "outputs": [],
   "source": [
    "opt_adam = optimize.Adam(learning_rate=0.1)\n",
    "opt_adam.minimize(loss, w.reshape(-1), steps=100, record=True)"
   ]
  },
  {
   "cell_type": "code",
   "execution_count": 43,
   "metadata": {},
   "outputs": [
    {
     "name": "stdout",
     "output_type": "stream",
     "text": [
      "Optimization Results:\n",
      "======================\n",
      "[[-1.90087557e+00 -4.93873151e-05]\n",
      " [-2.55929655e-03  1.09524324e-03]]\n"
     ]
    }
   ],
   "source": [
    "print(\"Optimization Results:\")\n",
    "print(\"======================\")\n",
    "print(AD.to_array(w))"
   ]
  },
  {
   "cell_type": "code",
   "execution_count": 44,
   "metadata": {},
   "outputs": [
    {
     "data": {
      "image/png": "[encoded data removed]",
      "text/plain": [
       "<Figure size 432x288 with 1 Axes>"
      ]
     },
     "metadata": {
      "needs_background": "light"
     },
     "output_type": "display_data"
    }
   ],
   "source": [
    "opt_adam.plot_loss_func()"
   ]
  }
 ],
 "metadata": {
  "kernelspec": {
   "display_name": "Python 3",
   "language": "python",
   "name": "python3"
  },
  "language_info": {
   "codemirror_mode": {
    "name": "ipython",
    "version": 3
   },
   "file_extension": ".py",
   "mimetype": "text/x-python",
   "name": "python",
   "nbconvert_exporter": "python",
   "pygments_lexer": "ipython3",
   "version": "3.8.3"
  }
 },
 "nbformat": 4,
 "nbformat_minor": 4
}
