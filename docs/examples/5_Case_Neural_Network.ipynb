{
 "cells": [
  {
   "cell_type": "markdown",
   "metadata": {},
   "source": [
    "Here, we demonstrate how to build a simple neural network with `boomdiff`. We will try to solve a non-linear fucntion fitting problem with a user-constructed neural network"
   ]
  },
  {
   "cell_type": "markdown",
   "metadata": {},
   "source": [
    "#### 0. Problem description\n",
    "\n",
    "We will first synthesize N 2D X-y pairs by a comparatively complex nonlinear function. Then, we will construct a neural network with 2 hidden layers, then we use feedforward of the neural network simulate the nonlinear function, via minimizing the target function with respect to all parameters in the neural network:\n",
    "\n",
    "$${\\arg \\min}_{W} \\frac{1}{N}[\\sum_{k=1}^N(f_W(X)-y)^2]$$"
   ]
  },
  {
   "cell_type": "markdown",
   "metadata": {},
   "source": [
    "#### 1. Import necessary packages"
   ]
  },
  {
   "cell_type": "code",
   "execution_count": 1,
   "metadata": {},
   "outputs": [],
   "source": [
    "import numpy as np\n",
    "import matplotlib.pyplot as plt\n",
    "\n",
    "from boomdiff import AD, optimize, loss_function\n",
    "\n",
    "from tqdm import tqdm"
   ]
  },
  {
   "cell_type": "code",
   "execution_count": 2,
   "metadata": {},
   "outputs": [],
   "source": [
    "np.random.seed(87)"
   ]
  },
  {
   "cell_type": "markdown",
   "metadata": {},
   "source": [
    "#### 2. Prepare synthetic data"
   ]
  },
  {
   "cell_type": "code",
   "execution_count": 3,
   "metadata": {},
   "outputs": [],
   "source": [
    "def f_true(x):\n",
    "    return x**3 + 4*x**2 + 2.5 + 10*np.sin(x*2)\n",
    "\n",
    "X_train = np.linspace(-3,3,100)\n",
    "y_train = f_true(X_train) + np.random.normal(0,1,size=100)"
   ]
  },
  {
   "cell_type": "code",
   "execution_count": 4,
   "metadata": {},
   "outputs": [
    {
     "data": {
      "image/png": "[encoded data removed]",
      "text/plain": [
       "<Figure size 360x360 with 1 Axes>"
      ]
     },
     "metadata": {
      "needs_background": "light"
     },
     "output_type": "display_data"
    }
   ],
   "source": [
    "# Visualize\n",
    "plt.figure(figsize=[5,5])\n",
    "plt.plot(X_train,y_train,'o',label='training data')\n",
    "plt.legend(fontsize=14)\n",
    "plt.xlabel('X')\n",
    "plt.ylabel('y')\n",
    "plt.show()"
   ]
  },
  {
   "cell_type": "markdown",
   "metadata": {},
   "source": [
    "#### 3. Construct a neural network and initialize parameters"
   ]
  },
  {
   "cell_type": "markdown",
   "metadata": {},
   "source": [
    "Initialize all the parameters for the 2-hidden layer NN"
   ]
  },
  {
   "cell_type": "code",
   "execution_count": 5,
   "metadata": {},
   "outputs": [],
   "source": [
    "width = 8 # Hidden layer width\n",
    "\n",
    "# Input Neuron - First Hidden Layer\n",
    "W1 = AD.from_array(np.random.normal(0,1,size=width), \"W1\")\n",
    "b1 = AD.from_array(np.random.normal(0,1,size=width), \"b1\")\n",
    "\n",
    "# First Hidden Layer - Second Hidden Layer\n",
    "W2 = AD.from_array(np.random.normal(0,1,size=(width,width)), \"W2\")\n",
    "b2 = AD.from_array(np.random.normal(0,1,size=width), \"b2\")\n",
    "\n",
    "# Second Hidden Layer - Output neuron\n",
    "W3 = AD.from_array(np.random.normal(0,1,size=width), \"W3\")\n",
    "b3 = AD.from_array(np.random.normal(0,1,size=1), \"b3\")"
   ]
  },
  {
   "cell_type": "code",
   "execution_count": 6,
   "metadata": {},
   "outputs": [],
   "source": [
    "parameter_array = np.concatenate((W1, b1, W2.reshape(-1), b2, W3, b3))"
   ]
  },
  {
   "cell_type": "markdown",
   "metadata": {},
   "source": [
    "Define a feedforward function $f_W(x)$ with all the parameters"
   ]
  },
  {
   "cell_type": "code",
   "execution_count": 7,
   "metadata": {},
   "outputs": [],
   "source": [
    "def feedforward(X):\n",
    "    h1 = X.reshape((-1,1))@W1.reshape(1,-1) + b1 #linear connection\n",
    "    h1_nl = AD.tanh(h1) #add nonlinearity\n",
    "    \n",
    "    h2 = (h1_nl@W2) + b2 #linear connection\n",
    "    h2_nl = AD.tanh(h2) #add nonlinearity\n",
    "    \n",
    "    y_pred = h2_nl@W3 + b3\n",
    "    \n",
    "    return y_pred"
   ]
  },
  {
   "cell_type": "markdown",
   "metadata": {},
   "source": [
    "#### 4. Define the MSE loss function"
   ]
  },
  {
   "cell_type": "code",
   "execution_count": 8,
   "metadata": {},
   "outputs": [],
   "source": [
    "loss = lambda: AD.mean((feedforward(X_batch) - y_batch)**2)"
   ]
  },
  {
   "cell_type": "markdown",
   "metadata": {},
   "source": [
    "#### 5. Initialize an optimizer"
   ]
  },
  {
   "cell_type": "code",
   "execution_count": 9,
   "metadata": {},
   "outputs": [],
   "source": [
    "opt = optimize.Adam(learning_rate=0.01)"
   ]
  },
  {
   "cell_type": "markdown",
   "metadata": {},
   "source": [
    "#### 6. Update parameters in the neural network, in a batch-epoch manner"
   ]
  },
  {
   "cell_type": "code",
   "execution_count": 10,
   "metadata": {},
   "outputs": [
    {
     "name": "stderr",
     "output_type": "stream",
     "text": [
      "100%|██████████| 1000/1000 [06:28<00:00,  2.57it/s]\n"
     ]
    }
   ],
   "source": [
    "n_epochs = 1000\n",
    "batch_size = 50\n",
    "\n",
    "for epochs in tqdm(range(n_epochs)):\n",
    "    index = np.random.permutation(100)\n",
    "    \n",
    "    for i in range(int(100/batch_size)):\n",
    "        index_i = index[i*batch_size:min(100,(i+1)*batch_size)]\n",
    "        X_batch = X_train[index_i]\n",
    "        y_batch = y_train[index_i]\n",
    "        opt.step(loss, parameter_array, record=True)"
   ]
  },
  {
   "cell_type": "markdown",
   "metadata": {},
   "source": [
    "#### 7. Show the results"
   ]
  },
  {
   "cell_type": "code",
   "execution_count": 11,
   "metadata": {},
   "outputs": [
    {
     "data": {
      "image/png": "[encoded data removed]",
      "text/plain": [
       "<Figure size 432x288 with 1 Axes>"
      ]
     },
     "metadata": {
      "needs_background": "light"
     },
     "output_type": "display_data"
    }
   ],
   "source": [
    "opt.plot_loss_func()"
   ]
  },
  {
   "cell_type": "markdown",
   "metadata": {},
   "source": [
    "#### 8. Evaluate the results"
   ]
  },
  {
   "cell_type": "code",
   "execution_count": 12,
   "metadata": {},
   "outputs": [
    {
     "data": {
      "image/png": "[encoded data removed]",
      "text/plain": [
       "<Figure size 360x360 with 1 Axes>"
      ]
     },
     "metadata": {
      "needs_background": "light"
     },
     "output_type": "display_data"
    }
   ],
   "source": [
    "# visualize the fitted curve\n",
    "plt.figure(figsize=[5,5])\n",
    "plt.plot(X_train,y_train,'o',label='training data')\n",
    "plt.plot(X_train,AD.to_array(feedforward(X_train)), lw=4, label='Fitted Line')\n",
    "plt.legend(fontsize=14)\n",
    "plt.xlabel('X')\n",
    "plt.ylabel('y')\n",
    "plt.show()"
   ]
  }
 ],
 "metadata": {
  "kernelspec": {
   "display_name": "Python 3",
   "language": "python",
   "name": "python3"
  },
  "language_info": {
   "codemirror_mode": {
    "name": "ipython",
    "version": 3
   },
   "file_extension": ".py",
   "mimetype": "text/x-python",
   "name": "python",
   "nbconvert_exporter": "python",
   "pygments_lexer": "ipython3",
   "version": "3.8.3"
  }
 },
 "nbformat": 4,
 "nbformat_minor": 4
}
