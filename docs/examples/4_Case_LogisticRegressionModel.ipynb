{
 "cells": [
  {
   "cell_type": "markdown",
   "metadata": {},
   "source": [
    "## 4. A Logistic Regression Model\n",
    "\n",
    "After all the basic tutorials, we can combine them into some real-life cases. Here we fit a Logistic Regression Model with `boomdiff` and breast_cancer data from `sklearn` "
   ]
  },
  {
   "cell_type": "markdown",
   "metadata": {},
   "source": [
    "#### 0. Problem description"
   ]
  },
  {
   "cell_type": "markdown",
   "metadata": {},
   "source": [
    "The breast cancer dataset is a classic and very easy binary classification dataset. It record 569 records of breast cancer wisconsin dataset for a classification task. Each record $k$ has 30 features $X^k \\in \\mathbb{R}^{30}$ and a binary label $y^k$ (0 or 1) denoting its classification results. We want to find a set of weights $\\beta$ and a bias $b$ minimize the logistic cross entropy:\n",
    "\n",
    "$$\\hat{y}^k = \\text{logistic}(b+\\beta_0X_0^k + \\beta_1X_1^k + \\dots + \\beta_{29}X_{29}^k)$$\n",
    "\n",
    "$$\\text{arg min}_{\\beta,b}[- \\frac{1}{N}\\sum_{k=1}^N(y^k\\log(\\hat{y}^k) + (1-y^k)\\log (1- \\hat{y}^k))]$$"
   ]
  },
  {
   "cell_type": "markdown",
   "metadata": {},
   "source": [
    "#### 1. Import necessary packages"
   ]
  },
  {
   "cell_type": "code",
   "execution_count": 1,
   "metadata": {},
   "outputs": [],
   "source": [
    "import numpy as np\n",
    "\n",
    "from boomdiff import AD, optimize, loss_function\n",
    "\n",
    "from sklearn.model_selection import train_test_split\n",
    "from sklearn.preprocessing import PolynomialFeatures\n",
    "from sklearn.datasets import load_breast_cancer"
   ]
  },
  {
   "cell_type": "markdown",
   "metadata": {},
   "source": [
    "#### 2. Load the data and separate into training and test subsets"
   ]
  },
  {
   "cell_type": "code",
   "execution_count": 2,
   "metadata": {},
   "outputs": [],
   "source": [
    "# Load data\n",
    "data = load_breast_cancer()\n",
    "feature_names = data.feature_names\n",
    "X = PolynomialFeatures(degree=1).fit_transform(data.data) #add a bias column, 1\n",
    "y = data.target\n",
    "\n",
    "# Split into train and test\n",
    "X_train, X_test, y_train, y_test = train_test_split(X, y, test_size=0.2, random_state=87)"
   ]
  },
  {
   "cell_type": "markdown",
   "metadata": {},
   "source": [
    "#### 3. Initialize some random parameters as beta, b"
   ]
  },
  {
   "cell_type": "code",
   "execution_count": 3,
   "metadata": {},
   "outputs": [],
   "source": [
    "beta = AD.from_array(np.random.normal(0,0.001,size=30), 'beta')\n",
    "b = AD(np.random.normal(0,0.001),'b')"
   ]
  },
  {
   "cell_type": "code",
   "execution_count": 4,
   "metadata": {},
   "outputs": [],
   "source": [
    "parameter_array = np.concatenate((np.array([b]),beta)) # make sure this is 1D and bias is the first one"
   ]
  },
  {
   "cell_type": "markdown",
   "metadata": {},
   "source": [
    "#### 4. Construct the logistic loss function \n",
    "\n",
    "Use the `loss_functions.logistic_cross_entropy` to construct the target"
   ]
  },
  {
   "cell_type": "code",
   "execution_count": 5,
   "metadata": {},
   "outputs": [],
   "source": [
    "loss = lambda: loss_function.logistic_cross_entropy(X_train, y_train, parameter_array)"
   ]
  },
  {
   "cell_type": "code",
   "execution_count": 6,
   "metadata": {},
   "outputs": [
    {
     "data": {
      "text/plain": [
       "0.7687768830126361 ({'b': -0.35924610163555165, 'beta_0': -4.16095440092999, 'beta_1': -6.291386239952767, 'beta_2': -26.602936372017762, 'beta_3': -147.22533565661107, 'beta_4': -0.032328178938849636, 'beta_5': -0.025213353107744932, 'beta_6': -0.011298114826860753, 'beta_7': -0.00641635469121033, 'beta_8': -0.06135953910320429, 'beta_9': -0.02246435084781812, 'beta_10': -0.08772046301070617, 'beta_11': -0.4431045383815539, 'beta_12': -0.6222970308327904, 'beta_13': -5.553667232696471, 'beta_14': -0.0025954993175529894, 'beta_15': -0.007330025886923972, 'beta_16': -0.008734536531961575, 'beta_17': -0.0033779940836762812, 'beta_18': -0.007391515377480347, 'beta_19': -0.0013027288571506447, 'beta_20': -4.481549884748847, 'beta_21': -8.183168451598531, 'beta_22': -28.990893025829607, 'beta_23': -166.46468185035778, 'beta_24': -0.04319614354360246, 'beta_25': -0.055031899077958656, 'beta_26': -0.045222268731454136, 'beta_27': -0.021542534855831918, 'beta_28': -0.09355599995713618, 'beta_29': -0.027588748225890095})"
      ]
     },
     "execution_count": 6,
     "metadata": {},
     "output_type": "execute_result"
    }
   ],
   "source": [
    "loss()"
   ]
  },
  {
   "cell_type": "markdown",
   "metadata": {},
   "source": [
    "#### 5. Initialize an optimizer"
   ]
  },
  {
   "cell_type": "code",
   "execution_count": 7,
   "metadata": {},
   "outputs": [],
   "source": [
    "opt = optimize.Adam(learning_rate=0.001)"
   ]
  },
  {
   "cell_type": "markdown",
   "metadata": {},
   "source": [
    "#### 6. Update with the optimizer, with batched dataset"
   ]
  },
  {
   "cell_type": "code",
   "execution_count": 8,
   "metadata": {},
   "outputs": [],
   "source": [
    "opt.minimize(loss, parameter_array, steps=500, record=True)"
   ]
  },
  {
   "cell_type": "markdown",
   "metadata": {},
   "source": [
    "#### 7. Show the result "
   ]
  },
  {
   "cell_type": "code",
   "execution_count": 9,
   "metadata": {},
   "outputs": [
    {
     "data": {
      "image/png": "[encoded data removed]",
      "text/plain": [
       "<Figure size 432x288 with 1 Axes>"
      ]
     },
     "metadata": {
      "needs_background": "light"
     },
     "output_type": "display_data"
    }
   ],
   "source": [
    "opt.plot_loss_func()"
   ]
  },
  {
   "cell_type": "code",
   "execution_count": 21,
   "metadata": {},
   "outputs": [
    {
     "name": "stdout",
     "output_type": "stream",
     "text": [
      "Feature Names:\n",
      "bias ['mean radius' 'mean texture' 'mean perimeter' 'mean area'\n",
      " 'mean smoothness' 'mean compactness' 'mean concavity'\n",
      " 'mean concave points' 'mean symmetry' 'mean fractal dimension'\n",
      " 'radius error' 'texture error' 'perimeter error' 'area error'\n",
      " 'smoothness error' 'compactness error' 'concavity error'\n",
      " 'concave points error' 'symmetry error' 'fractal dimension error'\n",
      " 'worst radius' 'worst texture' 'worst perimeter' 'worst area'\n",
      " 'worst smoothness' 'worst compactness' 'worst concavity'\n",
      " 'worst concave points' 'worst symmetry' 'worst fractal dimension']\n",
      "=====================================\n",
      "Corresponding optimized weights:\n",
      "[ 0.124643    0.08108868  0.0191819   0.06825752  0.0147554   0.05419908\n",
      " -0.21892423 -0.28965788 -0.25028621  0.06275662  0.08348787  0.05384107\n",
      "  0.06346248  0.00595979 -0.02559529  0.03553834 -0.19943699 -0.19772758\n",
      " -0.10445583  0.03460603 -0.04092098  0.06259461 -0.01557405  0.0381774\n",
      " -0.0255551   0.01353719 -0.27902699 -0.29397339 -0.24422562 -0.00399684\n",
      " -0.02268466]\n"
     ]
    }
   ],
   "source": [
    "print(\"Feature Names:\")\n",
    "print(\"bias\", feature_names)\n",
    "print(\"=====================================\")\n",
    "print(\"Corresponding optimized weights:\")\n",
    "print(AD.to_array(parameter_array))"
   ]
  },
  {
   "cell_type": "markdown",
   "metadata": {},
   "source": [
    "#### 8. Evaluate the optimized results"
   ]
  },
  {
   "cell_type": "code",
   "execution_count": 15,
   "metadata": {},
   "outputs": [
    {
     "name": "stdout",
     "output_type": "stream",
     "text": [
      "Training Set Accuracy:\n",
      "0.9340659340659341\n"
     ]
    }
   ],
   "source": [
    "print(\"Training Set Accuracy:\")\n",
    "print(np.sum(AD.to_array(AD.logistic(X_train@parameter_array)).round(0) == y_train)/X_train.shape[0])"
   ]
  },
  {
   "cell_type": "code",
   "execution_count": 16,
   "metadata": {},
   "outputs": [
    {
     "name": "stdout",
     "output_type": "stream",
     "text": [
      "Test Set Accuracy:\n",
      "0.9035087719298246\n"
     ]
    }
   ],
   "source": [
    "print(\"Test Set Accuracy:\")\n",
    "print(np.sum(AD.to_array(AD.logistic(X_test@parameter_array)).round(0) == y_test)/X_test.shape[0])"
   ]
  }
 ],
 "metadata": {
  "kernelspec": {
   "display_name": "Python 3",
   "language": "python",
   "name": "python3"
  },
  "language_info": {
   "codemirror_mode": {
    "name": "ipython",
    "version": 3
   },
   "file_extension": ".py",
   "mimetype": "text/x-python",
   "name": "python",
   "nbconvert_exporter": "python",
   "pygments_lexer": "ipython3",
   "version": "3.8.3"
  }
 },
 "nbformat": 4,
 "nbformat_minor": 4
}
