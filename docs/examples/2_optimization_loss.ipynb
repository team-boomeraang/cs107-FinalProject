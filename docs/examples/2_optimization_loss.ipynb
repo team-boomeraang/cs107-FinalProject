{
 "cells": [
  {
   "cell_type": "markdown",
   "metadata": {},
   "source": [
    "In tutorial section 1, we walked through how to create and apply operations to AD instances and AD instances arrays. Based on that, we will demon how to use `boomdiff.optimize` to run gradient-based optimizers, and how to use some pre-set loss functions in `boomdiff.loss_function` to make life easier.\n",
    "\n",
    "Our optimizers in `boomdiff.optimize` has a key advantage over optimizers in current popular pacakages like [`pytorch`](https://pytorch.org/docs/stable/optim.html): flexibility. As all the parameters are denoted by name strings, we can determine which parameters we want to update at each iteration without initializing the whole optimizer instance. This makes some mean-field assumption based algorithms, like [Coordinate descent](https://en.wikipedia.org/wiki/Coordinate_descent), much more easier to implement in `boomdiff`."
   ]
  },
  {
   "cell_type": "code",
   "execution_count": 1,
   "metadata": {},
   "outputs": [],
   "source": [
    "from boomdiff import AD, optimize, loss_function"
   ]
  },
  {
   "cell_type": "markdown",
   "metadata": {},
   "source": [
    "## 2.1 Optimize with respect to scalar AD instances"
   ]
  },
  {
   "cell_type": "markdown",
   "metadata": {},
   "source": [
    "Assume we want to minimize:\n",
    "\n",
    "$$f = a^2 + b^2, \\quad a,b \\in \\mathbb{R}$$\n",
    "\n",
    "we know the optimization results should be $\\hat{a} \\approx 0, \\hat{b} \\approx 0, f_{min} \\approx 0$"
   ]
  },
  {
   "cell_type": "markdown",
   "metadata": {},
   "source": [
    "1. Initialize two variables `a` and `b`, at their staring points:"
   ]
  },
  {
   "cell_type": "code",
   "execution_count": 2,
   "metadata": {},
   "outputs": [],
   "source": [
    "a = AD(-7, 'a')\n",
    "b = AD(4, 'b')"
   ]
  },
  {
   "cell_type": "markdown",
   "metadata": {},
   "source": [
    "2. Define the target loss function we want to minimize. \n",
    "\n",
    "> **loss should be a callable without arguments, this can be easily done with `lambda` syntax sugar in python**"
   ]
  },
  {
   "cell_type": "code",
   "execution_count": 3,
   "metadata": {},
   "outputs": [],
   "source": [
    "loss = lambda: a**2 + b**2"
   ]
  },
  {
   "cell_type": "code",
   "execution_count": 4,
   "metadata": {},
   "outputs": [
    {
     "name": "stdout",
     "output_type": "stream",
     "text": [
      "a: -7, b: 4, loss: 65\n"
     ]
    }
   ],
   "source": [
    "print(f\"a: {a.value()}, b: {b.value()}, loss: {loss().value()}\")"
   ]
  },
  {
   "cell_type": "markdown",
   "metadata": {},
   "source": [
    "3. Initialize an optimizer\n",
    "\n",
    "At the moment, we support three optimizers: `optimize.GD`([gradient descent](https://en.wikipedia.org/wiki/Gradient_descent)), `optimize.Momentum`([momentum](https://medium.com/analytics-vidhya/momentum-a-simple-yet-efficient-optimizing-technique-ef76834e4423)), `optimize.Adam`([Adam](https://arxiv.org/pdf/1412.6980.pdf)). They share the similar APIs (for a complet API, check [here](https://github.com/team-boomeraang/cs107-FinalProject/blob/master/docs/documentation.md#optimization-methods-optimizer-subclasses)). \n",
    "\n",
    "I will use the Adam as an example here. "
   ]
  },
  {
   "cell_type": "code",
   "execution_count": 5,
   "metadata": {},
   "outputs": [],
   "source": [
    "opt = optimize.Adam(learning_rate=0.1, betas=(0.9, 0.999), eps=1e-08)"
   ]
  },
  {
   "cell_type": "markdown",
   "metadata": {},
   "source": [
    "Need to mention here, the construction of our optimizer makes it decoupled from the parameters, which results in the flexibility."
   ]
  },
  {
   "cell_type": "markdown",
   "metadata": {},
   "source": [
    "4. Use the optimizer to update\n",
    "\n",
    "There are two ways to update the variables: `step` will update for only one step, and `minimize` can set the step numbers you want to update. Their API are nearly the same. \n",
    "\n",
    "> The optimizer will update the variable\n",
    "\n",
    "The `record` flag (determine whether you want to record the loss track) is set to `False` by default, to avoid unintended memory occupying. But we will set to `True` mannully here, to demon the loss-iteration curve at the end. \n",
    "\n",
    "Besides, as we mentioned above, we can freely determine the parameters we want to update without re-initialize the optimizer (This is important because you will loss the history used in history-related algorithms like Adam and Momentum, if you reinitialize the optimizer).\n",
    "\n",
    "we can update `a` and `b` together, for one step:"
   ]
  },
  {
   "cell_type": "code",
   "execution_count": 6,
   "metadata": {},
   "outputs": [],
   "source": [
    "opt.step(loss, [a,b], record=True)"
   ]
  },
  {
   "cell_type": "code",
   "execution_count": 7,
   "metadata": {},
   "outputs": [
    {
     "name": "stdout",
     "output_type": "stream",
     "text": [
      "a: -6.9000000000714286, b: 3.900000000125, loss: 62.820000001960715\n"
     ]
    }
   ],
   "source": [
    "print(f\"a: {a.value()}, b: {b.value()}, loss: {loss().value()}\")"
   ]
  },
  {
   "cell_type": "markdown",
   "metadata": {},
   "source": [
    "or we can update `a` only for one step:"
   ]
  },
  {
   "cell_type": "code",
   "execution_count": 8,
   "metadata": {},
   "outputs": [],
   "source": [
    "opt.step(loss, [a], record=True)"
   ]
  },
  {
   "cell_type": "code",
   "execution_count": 9,
   "metadata": {},
   "outputs": [
    {
     "name": "stdout",
     "output_type": "stream",
     "text": [
      "a: -6.765669988048683, b: 3.900000000125, loss: 60.98429038815767\n"
     ]
    }
   ],
   "source": [
    "print(f\"a: {a.value()}, b: {b.value()}, loss: {loss().value()}\")"
   ]
  },
  {
   "cell_type": "markdown",
   "metadata": {},
   "source": [
    "or update `b` only for one step: "
   ]
  },
  {
   "cell_type": "code",
   "execution_count": 10,
   "metadata": {},
   "outputs": [],
   "source": [
    "opt.step(loss, [b], record=True)"
   ]
  },
  {
   "cell_type": "code",
   "execution_count": 11,
   "metadata": {},
   "outputs": [
    {
     "name": "stdout",
     "output_type": "stream",
     "text": [
      "a: -6.765669988048683, b: 3.7657155487753675, loss: 59.95490398147123\n"
     ]
    }
   ],
   "source": [
    "print(f\"a: {a.value()}, b: {b.value()}, loss: {loss().value()}\")"
   ]
  },
  {
   "cell_type": "markdown",
   "metadata": {},
   "source": [
    "or update `a` and `b` for 500 steps with `minimize`"
   ]
  },
  {
   "cell_type": "code",
   "execution_count": 12,
   "metadata": {},
   "outputs": [],
   "source": [
    "opt.minimize(loss, [a,b], steps=500, record=True)"
   ]
  },
  {
   "cell_type": "code",
   "execution_count": 13,
   "metadata": {},
   "outputs": [
    {
     "name": "stdout",
     "output_type": "stream",
     "text": [
      "a: -9.181156714018847e-12, b: 9.537149048472307e-13, loss: 8.520321072710111e-23\n"
     ]
    }
   ],
   "source": [
    "print(f\"a: {a.value()}, b: {b.value()}, loss: {loss().value()}\")"
   ]
  },
  {
   "cell_type": "markdown",
   "metadata": {},
   "source": [
    "Apparently, the results are close to our expectation. We can draw the loss-iteration curve by:"
   ]
  },
  {
   "cell_type": "code",
   "execution_count": 14,
   "metadata": {},
   "outputs": [
    {
     "data": {
      "image/png": "[encoded data removed]",
      "text/plain": [
       "<Figure size 432x288 with 1 Axes>"
      ]
     },
     "metadata": {
      "needs_background": "light"
     },
     "output_type": "display_data"
    }
   ],
   "source": [
    "opt.plot_loss_func() #This only works when you set record=True in all previous updates "
   ]
  },
  {
   "cell_type": "markdown",
   "metadata": {},
   "source": [
    "## 2.2 Optimize with respect to AD instances arrays\n",
    "\n",
    "The idea and procedure is similar. Let's say we are going to minimize the Frobinius norm of a 3*3 matrix W:\n",
    "\n",
    "$$\\min F_n = \\sum_{ij}W_{ij}^2$$"
   ]
  },
  {
   "cell_type": "code",
   "execution_count": 15,
   "metadata": {},
   "outputs": [],
   "source": [
    "import numpy as np\n",
    "np.random.seed(14)"
   ]
  },
  {
   "cell_type": "code",
   "execution_count": 16,
   "metadata": {},
   "outputs": [],
   "source": [
    "W = AD.from_array(np.random.randint(-10,10, size=(3,3)), prefix=\"W\")"
   ]
  },
  {
   "cell_type": "code",
   "execution_count": 17,
   "metadata": {},
   "outputs": [],
   "source": [
    "loss = lambda: AD.sum(W**2)"
   ]
  },
  {
   "cell_type": "code",
   "execution_count": 18,
   "metadata": {},
   "outputs": [
    {
     "name": "stdout",
     "output_type": "stream",
     "text": [
      "Initial W:\n",
      "[[ 1.  2. -3.]\n",
      " [-4.  0.  0.]\n",
      " [ 6. -2.  3.]]\n",
      "Initial loss:  79\n"
     ]
    }
   ],
   "source": [
    "print(\"Initial W:\")\n",
    "print(AD.to_array(W).round(3))\n",
    "print(\"Initial loss: \", loss().round(3).value())"
   ]
  },
  {
   "cell_type": "code",
   "execution_count": 19,
   "metadata": {},
   "outputs": [],
   "source": [
    "opt_arr = optimize.Adam(learning_rate=0.1)"
   ]
  },
  {
   "cell_type": "markdown",
   "metadata": {},
   "source": [
    "Then we call the `step` or `minimize` to update. `var_list` arguments only need to be 1D list or array of parameters, no order required. Because the parameters are denoted by unique name string. You can even concatenate different list of parameters as `var_list`, as long as all parameters appear in the `loss` function."
   ]
  },
  {
   "cell_type": "code",
   "execution_count": 20,
   "metadata": {},
   "outputs": [],
   "source": [
    "opt_arr.minimize(loss, W.reshape(-1), steps=500, record=True)"
   ]
  },
  {
   "cell_type": "code",
   "execution_count": 21,
   "metadata": {},
   "outputs": [
    {
     "name": "stdout",
     "output_type": "stream",
     "text": [
      "Optimized W:\n",
      "[[ 0. -0.  0.]\n",
      " [ 0.  0.  0.]\n",
      " [ 0.  0. -0.]]\n",
      "Final loss:  0.0\n"
     ]
    }
   ],
   "source": [
    "print(\"Optimized W:\")\n",
    "print(AD.to_array(W).round(3))\n",
    "print(\"Final loss: \", loss().round(3).value())"
   ]
  },
  {
   "cell_type": "markdown",
   "metadata": {},
   "source": [
    "Show the loss-iteration curve"
   ]
  },
  {
   "cell_type": "code",
   "execution_count": 22,
   "metadata": {},
   "outputs": [
    {
     "data": {
      "image/png": "[encoded data removed]",
      "text/plain": [
       "<Figure size 432x288 with 1 Axes>"
      ]
     },
     "metadata": {
      "needs_background": "light"
     },
     "output_type": "display_data"
    }
   ],
   "source": [
    "opt_arr.plot_loss_func()"
   ]
  },
  {
   "cell_type": "markdown",
   "metadata": {},
   "source": [
    "## 2.3 Pre-set loss functions\n",
    "\n",
    "As we can see above, user can define customized loss functions to optimize with `boomdiff`, which enabled broader user cases. For convinience and educational purpose, in particular, we have included the API for two common loss functions: mean squared error in the context of a linear model (`loss_functions.linear_mse()`) and binary cross-entropy for a logistic model (`loss_functions.logistic_cross_entropy`). Importantly, these two loss functions make fairly strong assumptions regarding the functional form of the data. Thus, we have titled the functions to inform the user of their purpose. "
   ]
  },
  {
   "cell_type": "markdown",
   "metadata": {},
   "source": [
    "### (1) `linear_mse` loss functions"
   ]
  },
  {
   "cell_type": "markdown",
   "metadata": {},
   "source": [
    "As a review of mean squared error, the loss function takes the form:\n",
    "\n",
    "$$\\sum_{i=1}^n (y_i - \\hat{y_i})^2$$\n",
    "\n",
    "for some observed outcome, $y_i$ and prediction of an arbitrary model, $\\hat{y_i}$. In this case, we will restrict the functional form of the model to be linear, as is the case of linear regression (and hence the name linear_mse()). That is, we assume:\n",
    "\n",
    "$$y_i = \\beta_1 x_1 + ... + \\beta_p x_p + \\epsilon_i$$\n",
    "\n",
    "where $\\epsilon_i$ is assumed to be Gaussian noise. Please also note that we will not be estimating an intercept in this case. For that to be included, the row of value 1 will be needed to be added to the design matrix for use in this function. With this in mind, our loss function takes the form:\n",
    "\n",
    "$$f(\\beta_1, ... \\beta_p) = \\sum_{i=1}^n (y_i - (\\beta_1x_1 + ... + \\beta_p x_p))^2$$."
   ]
  },
  {
   "cell_type": "markdown",
   "metadata": {},
   "source": [
    "### (2) `logistic_cross_entropy` loss functions\n",
    "\n",
    "This loss function is featured in logistic binary regression models: we have $N$ observed data $X^k$ with $M$ different features, each observation has a binary classification label $y^k$. We would like to find a set of feature weights $\\beta$ and a bias $b$, to minimize the cross entropy loss, the second equation: \n",
    "\n",
    "$$\\hat{y}^k = \\text{logistic}(b+\\beta_0X_0^k + \\beta_1X_1^k + \\dots + \\beta_{M-1}X_{M-1}^k)$$\n",
    "\n",
    "$$\\text{arg min}_{\\beta,b}[- \\frac{1}{N}\\sum_{k=1}^N(y^k\\log(\\hat{y}^k) + (1-y^k)\\log (1- \\hat{y}^k))]$$"
   ]
  },
  {
   "cell_type": "markdown",
   "metadata": {},
   "source": [
    "We will demonstrate the two kinds of loss functions in tutorial section 3 and section 4, by examples."
   ]
  }
 ],
 "metadata": {
  "kernelspec": {
   "display_name": "Python 3",
   "language": "python",
   "name": "python3"
  },
  "language_info": {
   "codemirror_mode": {
    "name": "ipython",
    "version": 3
   },
   "file_extension": ".py",
   "mimetype": "text/x-python",
   "name": "python",
   "nbconvert_exporter": "python",
   "pygments_lexer": "ipython3",
   "version": "3.8.3"
  }
 },
 "nbformat": 4,
 "nbformat_minor": 4
}
