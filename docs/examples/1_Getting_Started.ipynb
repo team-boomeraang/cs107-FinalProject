{
 "cells": [
  {
   "cell_type": "markdown",
   "metadata": {},
   "source": [
    "Hello, welcome to our `boomdiff` package tutorial series. \n",
    "\n",
    "The `boomdiff` is a package implementing forward-mode auto differentiations and graident-based optimizations of user-specified or pre-set objective functions. The organization of `boomdiff` package is highly modularized, with three major modules: \n",
    "\n",
    "1. The `boomdiff.AD` class, as the core functionality of `boomdiff` package, provides the interface to create, operate variables and track their gradients. Such functionality is realized through the `AD` instances or `AD` instances array data structures. We will walk thorugh this in tutorial section 1.\n",
    "\n",
    "2. The `boomdiff.optimize` module includes optimization algorithms based on the gradients of loss functions, user-defined or pre-set. We will illustrate the usage in tutorial section 2.\n",
    "\n",
    "3. The `boomdiff.loss_function` module includes some pre-set loss functions, like mean squared error (MSE), for users' convenience. We will illustrate the usage in tutorial section 2\n",
    "\n",
    "Following the basic tutorials (if you are proficient at progamming, you can probably skip the basic tutorials), two general pedagogical examples will be given \n",
    "\n",
    "- A linear regression model in tutorial section 3 \n",
    "\n",
    "- A logistic regression model in tutorial section 4\n",
    "\n",
    "- A simple neural network model in section 5. (Yes! we are proud that `boomdiff` can be used as a deep learning framework! Although there are still lots of things to do regarding performance.)\n",
    "\n",
    "These two examples will include most features, show you the usability and power of the `boomdiff` package, and you can probably understand the basic logics to use `boomdiff`: \n",
    "\n",
    "$$\\text{Create variables} \\to \\text{Construct models and define target functions} \\to \\text{Optimization}$$\n",
    "\n",
    "Then, you can construct your own models with `boomdiff` and solve real-life optimization problems!"
   ]
  },
  {
   "cell_type": "markdown",
   "metadata": {},
   "source": [
    "## 1.1 Create a AD instance as a scalar variable"
   ]
  },
  {
   "cell_type": "markdown",
   "metadata": {},
   "source": [
    "To start, make sure you have followed the [installation tutorial](https://github.com/team-boomeraang/cs107-FinalProject/blob/master/README.md#installation-of-boomdiff) and successfully installed the `boomdiff` package. If this is the case, we can import the package: "
   ]
  },
  {
   "cell_type": "code",
   "execution_count": 1,
   "metadata": {},
   "outputs": [],
   "source": [
    "from boomdiff import AD"
   ]
  },
  {
   "cell_type": "markdown",
   "metadata": {},
   "source": [
    "The instantiation of a single variable with AD is quite intuitive, we can simply call:"
   ]
  },
  {
   "cell_type": "code",
   "execution_count": 2,
   "metadata": {},
   "outputs": [],
   "source": [
    "a = AD(10., {'a': 1.0})"
   ]
  },
  {
   "cell_type": "markdown",
   "metadata": {},
   "source": [
    "Then a variable called `a` is created, it is an AD class instance. There are two arguments should be put in such instantiation: value and partial derivative dictionary. The two property can be called by attributes `func_val` and `partial_dict`:"
   ]
  },
  {
   "cell_type": "code",
   "execution_count": 3,
   "metadata": {},
   "outputs": [
    {
     "name": "stdout",
     "output_type": "stream",
     "text": [
      "10.0\n",
      "{'a': 1.0}\n"
     ]
    }
   ],
   "source": [
    "print(a.func_val)\n",
    "print(a.partial_dict)"
   ]
  },
  {
   "cell_type": "markdown",
   "metadata": {},
   "source": [
    "Here the value is `10`, which means the variable `a` itself is at 10. And the partial derivative dictionary `{'a': 1.0}` means, the variable's partial derivative to the name `'a'` is 1.0. **Name string** is one key property used to tracking the gradient in the multi-variable case. Here, as we haven't put any operations to such a variable, you can simple view the string `'a'` as the name of the variable, the derivative to itself should mostly be 1 (you can set it to other values as a seed vector).\n",
    "\n",
    "Based on such motivation, we also support create a varible in a simpler manner:  "
   ]
  },
  {
   "cell_type": "code",
   "execution_count": 4,
   "metadata": {},
   "outputs": [],
   "source": [
    "b = AD(7,'b')"
   ]
  },
  {
   "cell_type": "code",
   "execution_count": 5,
   "metadata": {},
   "outputs": [
    {
     "name": "stdout",
     "output_type": "stream",
     "text": [
      "7\n",
      "{'b': 1.0}\n"
     ]
    }
   ],
   "source": [
    "print(b.func_val)\n",
    "print(b.partial_dict)"
   ]
  },
  {
   "cell_type": "markdown",
   "metadata": {},
   "source": [
    "As above, you can only give the value and a name string, the partial derivative to itself will be set to 1.0 by default. Now you have another variable `b`.\n",
    "\n",
    "> Note: When dealing with multi-variable cases, make sure the name strings of your different variables are different! And the best practice is making the name of variables and their name string consistent, i.e. do `a = AD(10, 'a')` instead of `a = AD(10, 'b')`.\n",
    "\n",
    "And, if you are super lazy and will only work with a single variable, so the name string is not quite meaningful for you. We also support such syntax: "
   ]
  },
  {
   "cell_type": "code",
   "execution_count": 6,
   "metadata": {},
   "outputs": [],
   "source": [
    "x1 = AD(5.0)"
   ]
  },
  {
   "cell_type": "code",
   "execution_count": 7,
   "metadata": {},
   "outputs": [
    {
     "name": "stdout",
     "output_type": "stream",
     "text": [
      "5.0\n",
      "{'x1': 1}\n"
     ]
    }
   ],
   "source": [
    "print(x1.func_val)\n",
    "print(x1.partial_dict)"
   ]
  },
  {
   "cell_type": "markdown",
   "metadata": {},
   "source": [
    "As shown, you can only put an value and the name string is set to `'x1'` by default. Now you have another variable `x1`. You will see the power of the name string in following operations. "
   ]
  },
  {
   "cell_type": "markdown",
   "metadata": {},
   "source": [
    "## 1.2 Apply operations to AD instances and track gradient "
   ]
  },
  {
   "cell_type": "markdown",
   "metadata": {},
   "source": [
    "With the three variables `a`, `b`, `x1` we created above, we can do some operations. Let's start with an simple case: `f = 2*a + 3*b - 4*x1`. For this case, we can simply calculate by hand that:\n",
    "\n",
    "$$f=21,\\quad \\frac{\\partial f}{\\partial a} = 2, \\quad \\frac{\\partial f}{\\partial b} = 3, \\quad \\frac{\\partial f}{\\partial x1} = -4$$\n",
    "\n",
    "This calcualation can also be done quite intuitively in `boomdiff`:"
   ]
  },
  {
   "cell_type": "code",
   "execution_count": 8,
   "metadata": {},
   "outputs": [],
   "source": [
    "f = 2*a + 3*b - 4*x1"
   ]
  },
  {
   "cell_type": "code",
   "execution_count": 9,
   "metadata": {},
   "outputs": [
    {
     "name": "stdout",
     "output_type": "stream",
     "text": [
      "Function value:  21.0\n",
      "Partial derivatives:  {'a': 2.0, 'b': 3.0, 'x1': -4}\n"
     ]
    }
   ],
   "source": [
    "print(\"Function value: \", f.func_val)\n",
    "print(\"Partial derivatives: \", f.partial_dict)"
   ]
  },
  {
   "cell_type": "markdown",
   "metadata": {},
   "source": [
    "The object `f` is still an AD instance. Besides the function value, the name strings in its `partial_dict` atribute clearly show the gradients relation. Now you can see why the name string is important. Furthermore, as the `f` is still an AD instance, you can continue to apply operations on it and extend the computational graph, the gradients tape will still hold:"
   ]
  },
  {
   "cell_type": "code",
   "execution_count": 10,
   "metadata": {},
   "outputs": [],
   "source": [
    "f2 = f**2 + AD.sin(a)/AD.exp(b) + AD.log(x1)"
   ]
  },
  {
   "cell_type": "code",
   "execution_count": 11,
   "metadata": {},
   "outputs": [
    {
     "name": "stdout",
     "output_type": "stream",
     "text": [
      "Function value:  442.6089418293942\n",
      "Partial derivatives:  {'a': 83.99923486580482, 'b': 126.0004960830399, 'x1': -167.8}\n"
     ]
    }
   ],
   "source": [
    "print(\"Function value: \", f2.func_val)\n",
    "print(\"Partial derivatives: \", f2.partial_dict)"
   ]
  },
  {
   "cell_type": "markdown",
   "metadata": {},
   "source": [
    "If you are annoyed by the long float expression like me, you can control the decimal rounded length by a helper method `round`:"
   ]
  },
  {
   "cell_type": "code",
   "execution_count": 12,
   "metadata": {},
   "outputs": [
    {
     "name": "stdout",
     "output_type": "stream",
     "text": [
      "Rounded Function value:  442.6\n",
      "Rounded Partial derivatives:  {'a': 84.0, 'b': 126.0, 'x1': -167.8}\n"
     ]
    }
   ],
   "source": [
    "print(\"Rounded Function value: \", f2.round(1).func_val)\n",
    "print(\"Rounded Partial derivatives: \", f2.round(1).partial_dict)"
   ]
  },
  {
   "cell_type": "markdown",
   "metadata": {},
   "source": [
    "Currently, the `boomdiff` has alrealy support a huge amount of basic operations, functions and helper methods. For a complete API list and descriptions, see [AD API](https://github.com/team-boomeraang/cs107-FinalProject/blob/master/docs/documentation.md#autodiff).\n",
    "\n",
    "If you are done with the tracked operations and only want the function values, we provide a simple method called `value` to detach, it will return simple number values:"
   ]
  },
  {
   "cell_type": "code",
   "execution_count": 13,
   "metadata": {},
   "outputs": [
    {
     "data": {
      "text/plain": [
       "442.6089"
      ]
     },
     "execution_count": 13,
     "metadata": {},
     "output_type": "execute_result"
    }
   ],
   "source": [
    "f2.round(4).value()"
   ]
  },
  {
   "cell_type": "markdown",
   "metadata": {},
   "source": [
    "## 1.3 Create AD instances arrays as variable arrays"
   ]
  },
  {
   "cell_type": "markdown",
   "metadata": {},
   "source": [
    "Above, we demonstrated how to create and operate scalar varaibles in `boomdiff`. However, sometimes the number of parameters in a real-life model is quite large, it might be exhausting to create them one by one. Based on such motivation, we develop the following tools to create AD instances arrays as variable arrays. You can create a bunch of parameters with few lines."
   ]
  },
  {
   "cell_type": "markdown",
   "metadata": {},
   "source": [
    "At the moment, `numpy>=1.19` is needed to support all desired features, we import `numpy`:"
   ]
  },
  {
   "cell_type": "code",
   "execution_count": 14,
   "metadata": {},
   "outputs": [],
   "source": [
    "import numpy as np"
   ]
  },
  {
   "cell_type": "code",
   "execution_count": 15,
   "metadata": {},
   "outputs": [],
   "source": [
    "np.random.seed(14) # For reproducibility"
   ]
  },
  {
   "cell_type": "markdown",
   "metadata": {},
   "source": [
    "Now let's say we want a `2*2` parameters matrix `w1`, we can make it by two lines:\n",
    "\n",
    "1. Create an array with `numpy`, with size equal `2*2`"
   ]
  },
  {
   "cell_type": "code",
   "execution_count": 16,
   "metadata": {},
   "outputs": [],
   "source": [
    "w1_np = np.array([[1.,2.],[3.,4.]])"
   ]
  },
  {
   "cell_type": "markdown",
   "metadata": {},
   "source": [
    "2. Convert it to AD instances arrays with `AD.from_array()` method:"
   ]
  },
  {
   "cell_type": "code",
   "execution_count": 17,
   "metadata": {},
   "outputs": [],
   "source": [
    "w1 = AD.from_array(w1_np, prefix='w1')"
   ]
  },
  {
   "cell_type": "code",
   "execution_count": 18,
   "metadata": {},
   "outputs": [
    {
     "name": "stdout",
     "output_type": "stream",
     "text": [
      "[[1.0 ({'w1_0_0': 1.0}) 2.0 ({'w1_0_1': 1.0})]\n",
      " [3.0 ({'w1_1_0': 1.0}) 4.0 ({'w1_1_1': 1.0})]]\n"
     ]
    }
   ],
   "source": [
    "print(w1)"
   ]
  },
  {
   "cell_type": "markdown",
   "metadata": {},
   "source": [
    "Now we have the parameters matrix `w1`. You can see that object `w1` is an array with all elements are AD instances. The value of the elements are determined by the `w1_np` array, and the name string is `prefix_i_j`, `i` and `j` are the row and column index in the matrix, so each element will have different name strings. All derivatives here are set to 1.0 by default."
   ]
  },
  {
   "cell_type": "markdown",
   "metadata": {},
   "source": [
    "You can simple convert `w1` back by `AD.to_array()` method:"
   ]
  },
  {
   "cell_type": "code",
   "execution_count": 19,
   "metadata": {},
   "outputs": [
    {
     "data": {
      "text/plain": [
       "array([[1., 2.],\n",
       "       [3., 4.]])"
      ]
     },
     "execution_count": 19,
     "metadata": {},
     "output_type": "execute_result"
    }
   ],
   "source": [
    "AD.to_array(w1)"
   ]
  },
  {
   "cell_type": "markdown",
   "metadata": {},
   "source": [
    "## 1.4 Apply operations to AD instances array and track gradient"
   ]
  },
  {
   "cell_type": "markdown",
   "metadata": {},
   "source": [
    "All operations mentioned in section 1.2 will still work for AD instances arrays, either element-wise or broadcast. For example:"
   ]
  },
  {
   "cell_type": "code",
   "execution_count": 20,
   "metadata": {},
   "outputs": [
    {
     "data": {
      "text/plain": [
       "array([[1.0 ({'w1_0_0': 2.0}), 4.0 ({'w1_0_1': 4.0})],\n",
       "       [9.0 ({'w1_1_0': 6.0}), 16.0 ({'w1_1_1': 8.0})]], dtype=object)"
      ]
     },
     "execution_count": 20,
     "metadata": {},
     "output_type": "execute_result"
    }
   ],
   "source": [
    "w1**2"
   ]
  },
  {
   "cell_type": "code",
   "execution_count": 21,
   "metadata": {},
   "outputs": [
    {
     "data": {
      "text/plain": [
       "array([[1.0 ({'w1_0_0': 0.0}), 1.0 ({'w1_0_1': 0.0})],\n",
       "       [1.0 ({'w1_1_0': 0.0}), 1.0 ({'w1_1_1': 0.0})]], dtype=object)"
      ]
     },
     "execution_count": 21,
     "metadata": {},
     "output_type": "execute_result"
    }
   ],
   "source": [
    "w1/w1"
   ]
  },
  {
   "cell_type": "code",
   "execution_count": 22,
   "metadata": {},
   "outputs": [
    {
     "data": {
      "text/plain": [
       "array([[0.0 ({'w1_0_0': 1.0}), 0.6931471805599453 ({'w1_0_1': 0.5})],\n",
       "       [1.0986122886681098 ({'w1_1_0': 0.3333333333333333}),\n",
       "        1.3862943611198906 ({'w1_1_1': 0.25})]], dtype=object)"
      ]
     },
     "execution_count": 22,
     "metadata": {},
     "output_type": "execute_result"
    }
   ],
   "source": [
    "AD.log(w1)"
   ]
  },
  {
   "cell_type": "code",
   "execution_count": 23,
   "metadata": {},
   "outputs": [
    {
     "data": {
      "text/plain": [
       "array([[0.7615941559557649 ({'w1_0_0': 0.4199743416140261}),\n",
       "        0.9640275800758169 ({'w1_0_1': 0.07065082485316447})],\n",
       "       [0.9950547536867305 ({'w1_1_0': 0.009866037165440192}),\n",
       "        0.999329299739067 ({'w1_1_1': 0.001340950683025897})]],\n",
       "      dtype=object)"
      ]
     },
     "execution_count": 23,
     "metadata": {},
     "output_type": "execute_result"
    }
   ],
   "source": [
    "AD.tanh(w1)"
   ]
  },
  {
   "cell_type": "markdown",
   "metadata": {},
   "source": [
    "---\n",
    "\n",
    "Besides, there are some array-specific operations, like `AD.sum()`, `AD.mean()`, `AD.dot()`. For example, we can define Frobinius norm of `w1` by one line, and the gradients are tracked"
   ]
  },
  {
   "cell_type": "code",
   "execution_count": 24,
   "metadata": {},
   "outputs": [
    {
     "data": {
      "text/plain": [
       "30.0 ({'w1_0_0': 2.0, 'w1_0_1': 4.0, 'w1_1_0': 6.0, 'w1_1_1': 8.0})"
      ]
     },
     "execution_count": 24,
     "metadata": {},
     "output_type": "execute_result"
    }
   ],
   "source": [
    "AD.sum(w1**2)"
   ]
  },
  {
   "cell_type": "markdown",
   "metadata": {},
   "source": [
    "---\n",
    "\n",
    "We support matrix operations between a `numpy` array and an AD instances array:"
   ]
  },
  {
   "cell_type": "code",
   "execution_count": 25,
   "metadata": {},
   "outputs": [],
   "source": [
    "A = np.random.randint(0,5,size=[2,1])"
   ]
  },
  {
   "cell_type": "code",
   "execution_count": 35,
   "metadata": {},
   "outputs": [
    {
     "data": {
      "text/plain": [
       "array([[3],\n",
       "       [0]])"
      ]
     },
     "execution_count": 35,
     "metadata": {},
     "output_type": "execute_result"
    }
   ],
   "source": [
    "A"
   ]
  },
  {
   "cell_type": "code",
   "execution_count": 26,
   "metadata": {},
   "outputs": [
    {
     "data": {
      "text/plain": [
       "array([[3.0 ({'w1_0_0': 3.0, 'w1_0_1': 0.0})],\n",
       "       [9.0 ({'w1_1_0': 3.0, 'w1_1_1': 0.0})]], dtype=object)"
      ]
     },
     "execution_count": 26,
     "metadata": {},
     "output_type": "execute_result"
    }
   ],
   "source": [
    "AD.dot(w1,A)"
   ]
  },
  {
   "cell_type": "code",
   "execution_count": 27,
   "metadata": {},
   "outputs": [
    {
     "data": {
      "text/plain": [
       "array([[3.0 ({'w1_0_0': 3.0, 'w1_0_1': 0.0})],\n",
       "       [9.0 ({'w1_1_0': 3.0, 'w1_1_1': 0.0})]], dtype=object)"
      ]
     },
     "execution_count": 27,
     "metadata": {},
     "output_type": "execute_result"
    }
   ],
   "source": [
    "w1@A"
   ]
  },
  {
   "cell_type": "code",
   "execution_count": 28,
   "metadata": {},
   "outputs": [],
   "source": [
    "B = np.random.randint(0,5,size=[2,2])"
   ]
  },
  {
   "cell_type": "code",
   "execution_count": 36,
   "metadata": {},
   "outputs": [
    {
     "data": {
      "text/plain": [
       "array([[4, 1],\n",
       "       [2, 4]])"
      ]
     },
     "execution_count": 36,
     "metadata": {},
     "output_type": "execute_result"
    }
   ],
   "source": [
    "B"
   ]
  },
  {
   "cell_type": "code",
   "execution_count": 29,
   "metadata": {},
   "outputs": [
    {
     "data": {
      "text/plain": [
       "array([[5.0 ({'w1_0_0': 1.0}), 3.0 ({'w1_0_1': 1.0})],\n",
       "       [5.0 ({'w1_1_0': 1.0}), 8.0 ({'w1_1_1': 1.0})]], dtype=object)"
      ]
     },
     "execution_count": 29,
     "metadata": {},
     "output_type": "execute_result"
    }
   ],
   "source": [
    "w1+B"
   ]
  },
  {
   "cell_type": "markdown",
   "metadata": {},
   "source": [
    "---\n",
    "\n",
    "We support matrix operations between two AD instances arrays:"
   ]
  },
  {
   "cell_type": "code",
   "execution_count": 30,
   "metadata": {},
   "outputs": [],
   "source": [
    "w2 = AD.from_array(np.random.randint(0,5,size=[2,1]), prefix=\"w2\")"
   ]
  },
  {
   "cell_type": "code",
   "execution_count": 34,
   "metadata": {},
   "outputs": [
    {
     "data": {
      "text/plain": [
       "array([[2 ({'w2_0_0': 1.0})],\n",
       "       [0 ({'w2_1_0': 1.0})]], dtype=object)"
      ]
     },
     "execution_count": 34,
     "metadata": {},
     "output_type": "execute_result"
    }
   ],
   "source": [
    "w2"
   ]
  },
  {
   "cell_type": "code",
   "execution_count": 31,
   "metadata": {},
   "outputs": [
    {
     "data": {
      "text/plain": [
       "array([[2.0 ({'w1_0_0': 2.0, 'w2_0_0': 1.0, 'w1_0_1': 0.0, 'w2_1_0': 2.0})],\n",
       "       [6.0 ({'w1_1_0': 2.0, 'w2_0_0': 3.0, 'w1_1_1': 0.0, 'w2_1_0': 4.0})]],\n",
       "      dtype=object)"
      ]
     },
     "execution_count": 31,
     "metadata": {},
     "output_type": "execute_result"
    }
   ],
   "source": [
    "w1@w2"
   ]
  },
  {
   "cell_type": "code",
   "execution_count": 32,
   "metadata": {},
   "outputs": [],
   "source": [
    "w3 = AD.from_array(np.random.randint(0,5,size=[2,2]), prefix=\"w3\")"
   ]
  },
  {
   "cell_type": "code",
   "execution_count": 38,
   "metadata": {},
   "outputs": [
    {
     "data": {
      "text/plain": [
       "array([[0 ({'w3_0_0': 1.0}), 2 ({'w3_0_1': 1.0})],\n",
       "       [1 ({'w3_1_0': 1.0}), 3 ({'w3_1_1': 1.0})]], dtype=object)"
      ]
     },
     "execution_count": 38,
     "metadata": {},
     "output_type": "execute_result"
    }
   ],
   "source": [
    "w3"
   ]
  },
  {
   "cell_type": "code",
   "execution_count": 37,
   "metadata": {},
   "outputs": [
    {
     "data": {
      "text/plain": [
       "array([[1.0 ({'w1_0_0': 1.0, 'w3_0_0': -1.0}),\n",
       "        0.0 ({'w1_0_1': 1.0, 'w3_0_1': -1.0})],\n",
       "       [2.0 ({'w1_1_0': 1.0, 'w3_1_0': -1.0}),\n",
       "        1.0 ({'w1_1_1': 1.0, 'w3_1_1': -1.0})]], dtype=object)"
      ]
     },
     "execution_count": 37,
     "metadata": {},
     "output_type": "execute_result"
    }
   ],
   "source": [
    "w1-w3"
   ]
  },
  {
   "cell_type": "markdown",
   "metadata": {},
   "source": [
    "---\n",
    "\n",
    "We support operations between an AD instance and an AD instances arrays, in a broadcast manner:"
   ]
  },
  {
   "cell_type": "code",
   "execution_count": 39,
   "metadata": {},
   "outputs": [
    {
     "data": {
      "text/plain": [
       "10.0 ({'a': 1.0})"
      ]
     },
     "execution_count": 39,
     "metadata": {},
     "output_type": "execute_result"
    }
   ],
   "source": [
    "a"
   ]
  },
  {
   "cell_type": "code",
   "execution_count": 40,
   "metadata": {},
   "outputs": [
    {
     "data": {
      "text/plain": [
       "array([[11.0 ({'w1_0_0': 1.0, 'a': 1.0}),\n",
       "        12.0 ({'w1_0_1': 1.0, 'a': 1.0})],\n",
       "       [13.0 ({'w1_1_0': 1.0, 'a': 1.0}),\n",
       "        14.0 ({'w1_1_1': 1.0, 'a': 1.0})]], dtype=object)"
      ]
     },
     "execution_count": 40,
     "metadata": {},
     "output_type": "execute_result"
    }
   ],
   "source": [
    "w1+a"
   ]
  },
  {
   "cell_type": "markdown",
   "metadata": {},
   "source": [
    "All the operations will output another AD instances array or an single AD instance, keeping the gradients tracked.\n",
    "\n",
    "With all the tools we learned here, we can smoothly move to the optimization tutorial! "
   ]
  }
 ],
 "metadata": {
  "kernelspec": {
   "display_name": "Python 3",
   "language": "python",
   "name": "python3"
  },
  "language_info": {
   "codemirror_mode": {
    "name": "ipython",
    "version": 3
   },
   "file_extension": ".py",
   "mimetype": "text/x-python",
   "name": "python",
   "nbconvert_exporter": "python",
   "pygments_lexer": "ipython3",
   "version": "3.8.3"
  }
 },
 "nbformat": 4,
 "nbformat_minor": 4
}
